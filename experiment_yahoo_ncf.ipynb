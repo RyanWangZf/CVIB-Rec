{
 "cells": [
  {
   "cell_type": "code",
   "execution_count": 1,
   "metadata": {},
   "outputs": [
    {
     "name": "stdout",
     "output_type": "stream",
     "text": [
      "===>Load from yahoo data set<===\n",
      "[train] num data: 311704\n",
      "[test]  num data: 54000\n",
      "# user: 15401, # item: 1001\n"
     ]
    }
   ],
   "source": [
    "# -*- coding: utf-8 -*-\n",
    "import numpy as np\n",
    "import torch\n",
    "import pdb\n",
    "from sklearn.metrics import roc_auc_score\n",
    "np.random.seed(2020)\n",
    "torch.manual_seed(2020)\n",
    "import pdb\n",
    "\n",
    "from dataset import load_data\n",
    "\n",
    "from matrix_factorization import NCF, NCF_CVIB, NCF_IPS, NCF_SNIPS, NCF_DR\n",
    "\n",
    "from utils import gini_index, get_user_wise_ctr, rating_mat_to_sample, binarize, shuffle, minU\n",
    "mse_func = lambda x,y: np.mean((x-y)**2)\n",
    "acc_func = lambda x,y: np.sum(x == y) / len(x)\n",
    "\n",
    "dataset_name = \"yahoo\"\n",
    "\n",
    "if dataset_name == \"coat\":\n",
    "    train_mat, test_mat = load_data(\"coat\")        \n",
    "    x_train, y_train = rating_mat_to_sample(train_mat)\n",
    "    x_test, y_test = rating_mat_to_sample(test_mat)\n",
    "    num_user = train_mat.shape[0]\n",
    "    num_item = train_mat.shape[1]\n",
    "\n",
    "elif dataset_name == \"yahoo\":\n",
    "    x_train, y_train, x_test, y_test = load_data(\"yahoo\")\n",
    "    x_train, y_train = shuffle(x_train, y_train)\n",
    "    num_user = x_train[:,0].max() + 1\n",
    "    num_item = x_train[:,1].max() + 1\n",
    "\n",
    "print(\"# user: {}, # item: {}\".format(num_user, num_item))\n",
    "# binarize\n",
    "y_train = binarize(y_train)\n",
    "y_test = binarize(y_test)"
   ]
  },
  {
   "cell_type": "code",
   "execution_count": 2,
   "metadata": {},
   "outputs": [
    {
     "name": "stdout",
     "output_type": "stream",
     "text": [
      "[NCF-CVIB] epoch:0, xent:102.41808754205704\n",
      "[NCF-CVIB] epoch:10, xent:71.46804741024971\n",
      "[NCF-CVIB] epoch:20, xent:70.42273560166359\n",
      "[NCF-CVIB] epoch:28, xent:70.08186256885529\n",
      "***************[NCF-CVIB]***************\n",
      "[NCF-CVIB] test mse: 0.2819975356917161\n",
      "[NCF-CVIB] test auc: 0.6989449468018082\n",
      "Num User: 5400\n",
      "Gini index: 0.5428619551766933\n",
      "Global utility: 0.26937037037037037\n",
      "***************[NCF-CVIB]***************\n"
     ]
    }
   ],
   "source": [
    "\"NCF CVIB\"\n",
    "ncf_cvib = NCF_CVIB(num_user, num_item)\n",
    "ncf_cvib.fit(x_train, y_train, lr=0.01, \n",
    "    alpha=1e-3, gamma=1e-3, lamb=1e-4, tol=1e-6, \n",
    "    batch_size = 2048, verbose=1)\n",
    "\n",
    "test_pred = ncf_cvib.predict(x_test)\n",
    "mse_ncf = mse_func(y_test, test_pred)\n",
    "auc_ncf = roc_auc_score(y_test, test_pred)\n",
    "print(\"***\"*5 + \"[NCF-CVIB]\" + \"***\"*5)\n",
    "print(\"[NCF-CVIB] test mse:\", mse_ncf)\n",
    "print(\"[NCF-CVIB] test auc:\", auc_ncf)\n",
    "user_wise_ctr = get_user_wise_ctr(x_test,y_test,test_pred)\n",
    "gi,gu = gini_index(user_wise_ctr)\n",
    "print(\"***\"*5 + \"[NCF-CVIB]\" + \"***\"*5)"
   ]
  },
  {
   "cell_type": "code",
   "execution_count": 3,
   "metadata": {},
   "outputs": [
    {
     "name": "stdout",
     "output_type": "stream",
     "text": [
      "[NCF] epoch:0, xent:102.8900898694992\n",
      "[NCF] epoch:10, xent:85.17771834135056\n",
      "***************[NCF]***************\n",
      "[NCF] test mse: 0.3313150855314741\n",
      "[NCF] test auc: 0.6772202864552993\n",
      "Num User: 5400\n",
      "Gini index: 0.56529110291104\n",
      "Global utility: 0.26096296296296295\n",
      "***************[NCF]***************\n"
     ]
    }
   ],
   "source": [
    "\"NCF naive\"\n",
    "ncf = NCF(num_user, num_item)\n",
    "ncf.fit(x_train, y_train, lr=0.01, lamb=1e-4, tol=1e-6, \n",
    "    batch_size = 2048, verbose=1)\n",
    "test_pred = ncf.predict(x_test)\n",
    "mse_ncf = mse_func(y_test, test_pred)\n",
    "auc_ncf = roc_auc_score(y_test, test_pred)\n",
    "print(\"***\"*5 + \"[NCF]\" + \"***\"*5)\n",
    "print(\"[NCF] test mse:\", mse_func(y_test, test_pred))\n",
    "print(\"[NCF] test auc:\", auc_ncf)\n",
    "user_wise_ctr = get_user_wise_ctr(x_test,y_test,test_pred)\n",
    "gi,gu = gini_index(user_wise_ctr)\n",
    "print(\"***\"*5 + \"[NCF]\" + \"***\"*5)"
   ]
  },
  {
   "cell_type": "code",
   "execution_count": 4,
   "metadata": {},
   "outputs": [
    {
     "name": "stdout",
     "output_type": "stream",
     "text": [
      "[NCF-IPS] epoch:0, xent:4103.263013839722\n",
      "[NCF-IPS] epoch:10, xent:2927.3574962615967\n",
      "[NCF-IPS] epoch:20, xent:2844.8160438537598\n",
      "[NCF-IPS] epoch:30, xent:2778.3027992248535\n",
      "[NCF-IPS] epoch:40, xent:2741.9010314941406\n",
      "[NCF-IPS] epoch:50, xent:2718.723768234253\n",
      "[NCF-IPS] epoch:60, xent:2698.268035888672\n",
      "[NCF-IPS] epoch:70, xent:2682.119041442871\n",
      "[NCF-IPS] epoch:80, xent:2664.8209190368652\n",
      "[NCF-IPS] epoch:87, xent:2654.0771675109863\n",
      "***************[NCF-IPS]***************\n",
      "[NCF-IPS] test mse: 0.17769356075206216\n",
      "[NCF-IPS] test auc: 0.6707938915130047\n",
      "Num User: 5400\n",
      "Gini index: 0.5526796131000107\n",
      "Global utility: 0.25725925925925924\n",
      "***************[NCF-IPS]***************\n"
     ]
    }
   ],
   "source": [
    "\"NCF IPS\"\n",
    "ncf_ips = NCF_IPS(num_user, num_item)\n",
    "\n",
    "ips_idxs = np.arange(len(y_test))\n",
    "np.random.shuffle(ips_idxs)\n",
    "y_ips = y_test[ips_idxs[:int(0.05 * len(ips_idxs))]]\n",
    "\n",
    "ncf_ips.fit(x_train, y_train, \n",
    "    y_ips=y_ips,\n",
    "    lr=0.01,\n",
    "    batch_size=2048,\n",
    "    lamb=1e-4,tol=1e-6, verbose=1)\n",
    "\n",
    "test_pred = ncf_ips.predict(x_test)\n",
    "mse_ncfips = mse_func(y_test, test_pred)\n",
    "auc_ncfips = roc_auc_score(y_test, test_pred)\n",
    "print(\"***\"*5 + \"[NCF-IPS]\" + \"***\"*5)\n",
    "print(\"[NCF-IPS] test mse:\", mse_ncfips)\n",
    "print(\"[NCF-IPS] test auc:\", auc_ncfips)\n",
    "user_wise_ctr = get_user_wise_ctr(x_test,y_test,test_pred)\n",
    "gi,gu = gini_index(user_wise_ctr)\n",
    "print(\"***\"*5 + \"[NCF-IPS]\" + \"***\"*5)\n"
   ]
  },
  {
   "cell_type": "code",
   "execution_count": 5,
   "metadata": {},
   "outputs": [
    {
     "name": "stdout",
     "output_type": "stream",
     "text": [
      "[NCF-SNIPS] epoch:0, xent:84.56735223531723\n",
      "[NCF-SNIPS] epoch:10, xent:61.797143638134\n",
      "[NCF-SNIPS] epoch:20, xent:61.27409288287163\n",
      "***************[NCF-SNIPS]***************\n",
      "[NCF-SNIPS] test mse: 0.16991930315856799\n",
      "[NCF-SNIPS] test auc: 0.6879031329287465\n",
      "Num User: 5400\n",
      "Gini index: 0.5420429543185992\n",
      "Global utility: 0.2665925925925926\n",
      "***************[NCF-SNIPS]***************\n"
     ]
    }
   ],
   "source": [
    "\"NCF SNIPS\"\n",
    "ncf_snips = NCF_SNIPS(num_user, num_item)\n",
    "\n",
    "ips_idxs = np.arange(len(y_test))\n",
    "np.random.shuffle(ips_idxs)\n",
    "y_ips = y_test[ips_idxs[:int(0.05 * len(ips_idxs))]]\n",
    "\n",
    "ncf_snips.fit(x_train, y_train, \n",
    "    y_ips=y_ips,\n",
    "    lr=0.01,\n",
    "    batch_size=2048,\n",
    "    lamb=1e-4,tol=1e-6, verbose=1)\n",
    "\n",
    "test_pred = ncf_snips.predict(x_test)\n",
    "mse_ncfips = mse_func(y_test, test_pred)\n",
    "auc_ncfips = roc_auc_score(y_test, test_pred)\n",
    "print(\"***\"*5 + \"[NCF-SNIPS]\" + \"***\"*5)\n",
    "print(\"[NCF-SNIPS] test mse:\", mse_ncfips)\n",
    "print(\"[NCF-SNIPS] test auc:\", auc_ncfips)\n",
    "user_wise_ctr = get_user_wise_ctr(x_test,y_test,test_pred)\n",
    "gi,gu = gini_index(user_wise_ctr)\n",
    "print(\"***\"*5 + \"[NCF-SNIPS]\" + \"***\"*5)"
   ]
  },
  {
   "cell_type": "code",
   "execution_count": 6,
   "metadata": {},
   "outputs": [
    {
     "name": "stderr",
     "output_type": "stream",
     "text": [
      "D:\\Counterfactual\\CVIB\\matrix_factorization.py:1108: UserWarning: Using a target size (torch.Size([2048])) that is different to the input size (torch.Size([2048, 1])) is deprecated. Please ensure they have the same size.\n",
      "  xent_loss = F.binary_cross_entropy(pred, sub_y, weight=inv_prop, reduction=\"sum\")\n"
     ]
    },
    {
     "name": "stdout",
     "output_type": "stream",
     "text": [
      "[NCF-DR] epoch:0, xent:7028748.703125\n",
      "[NCF-DR] epoch:10, xent:5909191.63671875\n",
      "[NCF-DR] epoch:20, xent:5814341.91015625\n",
      "[NCF-DR] epoch:27, xent:5779385.21875\n",
      "***************[NCF-DR]***************\n",
      "[NCF-DR] test mse: 0.16988391058113375\n",
      "[NCF-DR] test auc: 0.6886005304915482\n",
      "Num User: 5400\n",
      "Gini index: 0.5460474569566882\n",
      "Global utility: 0.26355555555555554\n",
      "***************[NCF-DR]***************\n"
     ]
    }
   ],
   "source": [
    "\"NCF DR\"\n",
    "ncf_dr = NCF_DR(num_user, num_item)\n",
    "\n",
    "ips_idxs = np.arange(len(y_test))\n",
    "np.random.shuffle(ips_idxs)\n",
    "y_ips = y_test[ips_idxs[:int(0.05 * len(ips_idxs))]]\n",
    "\n",
    "ncf_dr.fit(x_train, y_train, y_ips=y_ips, batch_size=2048, \n",
    "    lr=0.05, lamb=1e-4, verbose=1)\n",
    "test_pred = ncf_dr.predict(x_test)\n",
    "mse_mfdr = mse_func(y_test, test_pred)\n",
    "auc_mfdr = roc_auc_score(y_test, test_pred)\n",
    "print(\"***\"*5 + \"[NCF-DR]\" + \"***\"*5)\n",
    "print(\"[NCF-DR] test mse:\", mse_mfdr)\n",
    "print(\"[NCF-DR] test auc:\", auc_mfdr)\n",
    "user_wise_ctr = get_user_wise_ctr(x_test,y_test,test_pred)\n",
    "gi,gu = gini_index(user_wise_ctr)\n",
    "print(\"***\"*5 + \"[NCF-DR]\" + \"***\"*5)"
   ]
  },
  {
   "cell_type": "code",
   "execution_count": null,
   "metadata": {},
   "outputs": [],
   "source": []
  }
 ],
 "metadata": {
  "kernelspec": {
   "display_name": "Python 3",
   "language": "python",
   "name": "python3"
  },
  "language_info": {
   "codemirror_mode": {
    "name": "ipython",
    "version": 3
   },
   "file_extension": ".py",
   "mimetype": "text/x-python",
   "name": "python",
   "nbconvert_exporter": "python",
   "pygments_lexer": "ipython3",
   "version": "3.5.4"
  }
 },
 "nbformat": 4,
 "nbformat_minor": 2
}
