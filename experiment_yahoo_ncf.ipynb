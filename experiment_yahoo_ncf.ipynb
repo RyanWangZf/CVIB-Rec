{
 "cells": [
  {
   "cell_type": "code",
   "execution_count": 1,
   "metadata": {},
   "outputs": [
    {
     "name": "stdout",
     "output_type": "stream",
     "text": [
      "===>Load from yahoo data set<===\n",
      "[train] num data: 311704\n",
      "[test]  num data: 54000\n",
      "# user: 15401, # item: 1001\n"
     ]
    }
   ],
   "source": [
    "# -*- coding: utf-8 -*-\n",
    "import numpy as np\n",
    "import torch\n",
    "import pdb\n",
    "from sklearn.metrics import roc_auc_score\n",
    "np.random.seed(2020)\n",
    "torch.manual_seed(2020)\n",
    "import pdb\n",
    "\n",
    "from dataset import load_data\n",
    "\n",
    "from matrix_factorization import NCF, NCF_CVIB, NCF_IPS, NCF_SNIPS, NCF_DR\n",
    "\n",
    "from utils import gini_index, ndcg_func, get_user_wise_ctr, rating_mat_to_sample, binarize, shuffle, minU\n",
    "mse_func = lambda x,y: np.mean((x-y)**2)\n",
    "acc_func = lambda x,y: np.sum(x == y) / len(x)\n",
    "\n",
    "dataset_name = \"yahoo\"\n",
    "\n",
    "if dataset_name == \"coat\":\n",
    "    train_mat, test_mat = load_data(\"coat\")        \n",
    "    x_train, y_train = rating_mat_to_sample(train_mat)\n",
    "    x_test, y_test = rating_mat_to_sample(test_mat)\n",
    "    num_user = train_mat.shape[0]\n",
    "    num_item = train_mat.shape[1]\n",
    "\n",
    "elif dataset_name == \"yahoo\":\n",
    "    x_train, y_train, x_test, y_test = load_data(\"yahoo\")\n",
    "    x_train, y_train = shuffle(x_train, y_train)\n",
    "    num_user = x_train[:,0].max() + 1\n",
    "    num_item = x_train[:,1].max() + 1\n",
    "\n",
    "print(\"# user: {}, # item: {}\".format(num_user, num_item))\n",
    "# binarize\n",
    "y_train = binarize(y_train)\n",
    "y_test = binarize(y_test)"
   ]
  },
  {
   "cell_type": "code",
   "execution_count": 2,
   "metadata": {},
   "outputs": [
    {
     "name": "stdout",
     "output_type": "stream",
     "text": [
      "[NCF-CVIB] epoch:0, xent:115.93364042043686\n",
      "[NCF-CVIB] epoch:10, xent:97.04958033561707\n",
      "[NCF-CVIB] epoch:20, xent:96.58860766887665\n",
      "[NCF-CVIB] epoch:30, xent:95.87860035896301\n",
      "[NCF-CVIB] epoch:40, xent:95.3306735754013\n",
      "[NCF-CVIB] epoch:48, xent:95.07919818162918\n",
      "***************[NCF-CVIB]***************\n",
      "[NCF-CVIB] test mse: 0.4427629712806506\n",
      "[NCF-CVIB] test auc: 0.6966606110800491\n",
      "ndcg@5:0.675872, ndcg@10:0.784883\n",
      "Num User: 5400\n",
      "Gini index: 0.5437158465789664\n",
      "Global utility: 0.2705555555555556\n",
      "***************[NCF-CVIB]***************\n"
     ]
    }
   ],
   "source": [
    "\"NCF CVIB\"\n",
    "ncf_cvib = NCF_CVIB(num_user, num_item)\n",
    "ncf_cvib.fit(x_train, y_train, lr=0.01, \n",
    "    alpha=1.0, gamma=1e-1, lamb=1e-4, tol=1e-6, \n",
    "    batch_size = 2048, verbose=1)\n",
    "\n",
    "test_pred = ncf_cvib.predict(x_test)\n",
    "mse_ncf = mse_func(y_test, test_pred)\n",
    "auc_ncf = roc_auc_score(y_test, test_pred)\n",
    "ndcg_res = ndcg_func(ncf_cvib, x_test, y_test)\n",
    "\n",
    "print(\"***\"*5 + \"[NCF-CVIB]\" + \"***\"*5)\n",
    "print(\"[NCF-CVIB] test mse:\", mse_ncf)\n",
    "print(\"[NCF-CVIB] test auc:\", auc_ncf)\n",
    "print(\"ndcg@5:{:.6f}, ndcg@10:{:.6f}\".format(\n",
    "    np.mean(ndcg_res[\"ndcg_5\"]), np.mean(ndcg_res[\"ndcg_10\"])))\n",
    "user_wise_ctr = get_user_wise_ctr(x_test,y_test,test_pred)\n",
    "gi,gu = gini_index(user_wise_ctr)\n",
    "print(\"***\"*5 + \"[NCF-CVIB]\" + \"***\"*5)"
   ]
  },
  {
   "cell_type": "code",
   "execution_count": 3,
   "metadata": {},
   "outputs": [
    {
     "name": "stdout",
     "output_type": "stream",
     "text": [
      "[NCF] epoch:0, xent:102.9376904964447\n",
      "[NCF] epoch:10, xent:85.20729166269302\n",
      "[NCF] epoch:20, xent:84.76616615056992\n",
      "[NCF] epoch:30, xent:84.42630195617676\n",
      "[NCF] epoch:40, xent:84.05371761322021\n",
      "[NCF] epoch:50, xent:83.66002357006073\n",
      "***************[NCF]***************\n",
      "[NCF] test mse: 0.33389237573647923\n",
      "[NCF] test auc: 0.677314377423672\n",
      "ndcg@5:0.654634, ndcg@10:0.774168\n",
      "Num User: 5400\n",
      "Gini index: 0.5624442706605475\n",
      "Global utility: 0.2604814814814815\n",
      "***************[NCF]***************\n"
     ]
    }
   ],
   "source": [
    "\"NCF naive\"\n",
    "ncf = NCF(num_user, num_item)\n",
    "ncf.fit(x_train, y_train, lr=0.01, lamb=1e-4, tol=1e-6, \n",
    "    batch_size = 2048, verbose=1)\n",
    "test_pred = ncf.predict(x_test)\n",
    "mse_ncf = mse_func(y_test, test_pred)\n",
    "auc_ncf = roc_auc_score(y_test, test_pred)\n",
    "ndcg_res = ndcg_func(ncf, x_test, y_test)\n",
    "\n",
    "print(\"***\"*5 + \"[NCF]\" + \"***\"*5)\n",
    "print(\"[NCF] test mse:\", mse_func(y_test, test_pred))\n",
    "print(\"[NCF] test auc:\", auc_ncf)\n",
    "print(\"ndcg@5:{:.6f}, ndcg@10:{:.6f}\".format(\n",
    "    np.mean(ndcg_res[\"ndcg_5\"]), np.mean(ndcg_res[\"ndcg_10\"])))\n",
    "user_wise_ctr = get_user_wise_ctr(x_test,y_test,test_pred)\n",
    "gi,gu = gini_index(user_wise_ctr)\n",
    "print(\"***\"*5 + \"[NCF]\" + \"***\"*5)"
   ]
  },
  {
   "cell_type": "code",
   "execution_count": 4,
   "metadata": {},
   "outputs": [
    {
     "name": "stdout",
     "output_type": "stream",
     "text": [
      "[NCF-IPS] epoch:0, xent:4072.9857234954834\n",
      "[NCF-IPS] epoch:10, xent:2899.3560104370117\n",
      "[NCF-IPS] epoch:20, xent:2819.6494884490967\n",
      "[NCF-IPS] epoch:30, xent:2734.750234603882\n",
      "[NCF-IPS] epoch:40, xent:2678.3535194396973\n",
      "[NCF-IPS] epoch:50, xent:2645.0100326538086\n",
      "[NCF-IPS] epoch:60, xent:2620.6374502182007\n",
      "[NCF-IPS] epoch:70, xent:2602.413637161255\n",
      "[NCF-IPS] epoch:80, xent:2587.4010343551636\n",
      "[NCF-IPS] epoch:90, xent:2577.7195386886597\n",
      "[NCF-IPS] epoch:100, xent:2570.600706100464\n",
      "[NCF-IPS] epoch:110, xent:2562.5005655288696\n",
      "[NCF-IPS] epoch:120, xent:2557.655520439148\n",
      "[NCF-IPS] epoch:122, xent:2558.3437633514404\n",
      "***************[NCF-IPS]***************\n",
      "[NCF-IPS] test mse: 0.17781794054197667\n",
      "[NCF-IPS] test auc: 0.6733292253853745\n",
      "ndcg@5:0.655470, ndcg@10:0.771176\n",
      "Num User: 5400\n",
      "Gini index: 0.5495443277923712\n",
      "Global utility: 0.2634074074074074\n",
      "***************[NCF-IPS]***************\n"
     ]
    }
   ],
   "source": [
    "\"NCF IPS\"\n",
    "ncf_ips = NCF_IPS(num_user, num_item)\n",
    "\n",
    "ips_idxs = np.arange(len(y_test))\n",
    "np.random.shuffle(ips_idxs)\n",
    "y_ips = y_test[ips_idxs[:int(0.05 * len(ips_idxs))]]\n",
    "\n",
    "ncf_ips.fit(x_train, y_train, \n",
    "    y_ips=y_ips,\n",
    "    lr=0.01,\n",
    "    batch_size=2048,\n",
    "    lamb=1e-4,tol=1e-6, verbose=1)\n",
    "\n",
    "test_pred = ncf_ips.predict(x_test)\n",
    "mse_ncfips = mse_func(y_test, test_pred)\n",
    "auc_ncfips = roc_auc_score(y_test, test_pred)\n",
    "ndcg_res = ndcg_func(ncf_ips, x_test, y_test)\n",
    "\n",
    "print(\"***\"*5 + \"[NCF-IPS]\" + \"***\"*5)\n",
    "print(\"[NCF-IPS] test mse:\", mse_ncfips)\n",
    "print(\"[NCF-IPS] test auc:\", auc_ncfips)\n",
    "print(\"ndcg@5:{:.6f}, ndcg@10:{:.6f}\".format(\n",
    "    np.mean(ndcg_res[\"ndcg_5\"]), np.mean(ndcg_res[\"ndcg_10\"])))\n",
    "user_wise_ctr = get_user_wise_ctr(x_test,y_test,test_pred)\n",
    "gi,gu = gini_index(user_wise_ctr)\n",
    "print(\"***\"*5 + \"[NCF-IPS]\" + \"***\"*5)\n"
   ]
  },
  {
   "cell_type": "code",
   "execution_count": 5,
   "metadata": {},
   "outputs": [
    {
     "name": "stdout",
     "output_type": "stream",
     "text": [
      "[NCF-SNIPS] epoch:0, xent:81.95224589109421\n",
      "[NCF-SNIPS] epoch:10, xent:59.18703892827034\n",
      "[NCF-SNIPS] epoch:20, xent:58.71371906995773\n",
      "[NCF-SNIPS] epoch:30, xent:58.45278751850128\n",
      "[NCF-SNIPS] epoch:40, xent:58.34858602285385\n",
      "[NCF-SNIPS] epoch:49, xent:58.22364658117294\n",
      "***************[NCF-SNIPS]***************\n",
      "[NCF-SNIPS] test mse: 0.16845158876808575\n",
      "[NCF-SNIPS] test auc: 0.6907556703391617\n",
      "ndcg@5:0.671587, ndcg@10:0.781287\n",
      "Num User: 5400\n",
      "Gini index: 0.5426085484962895\n",
      "Global utility: 0.26951851851851855\n",
      "***************[NCF-SNIPS]***************\n"
     ]
    }
   ],
   "source": [
    "\"NCF SNIPS\"\n",
    "ncf_snips = NCF_SNIPS(num_user, num_item)\n",
    "\n",
    "ips_idxs = np.arange(len(y_test))\n",
    "np.random.shuffle(ips_idxs)\n",
    "y_ips = y_test[ips_idxs[:int(0.05 * len(ips_idxs))]]\n",
    "\n",
    "ncf_snips.fit(x_train, y_train, \n",
    "    y_ips=y_ips,\n",
    "    lr=0.01,\n",
    "    batch_size=2048,\n",
    "    lamb=1e-4,tol=1e-6, verbose=1)\n",
    "\n",
    "test_pred = ncf_snips.predict(x_test)\n",
    "mse_ncfips = mse_func(y_test, test_pred)\n",
    "auc_ncfips = roc_auc_score(y_test, test_pred)\n",
    "ndcg_res = ndcg_func(ncf_snips, x_test, y_test)\n",
    "\n",
    "print(\"***\"*5 + \"[NCF-SNIPS]\" + \"***\"*5)\n",
    "print(\"[NCF-SNIPS] test mse:\", mse_ncfips)\n",
    "print(\"[NCF-SNIPS] test auc:\", auc_ncfips)\n",
    "print(\"ndcg@5:{:.6f}, ndcg@10:{:.6f}\".format(\n",
    "    np.mean(ndcg_res[\"ndcg_5\"]), np.mean(ndcg_res[\"ndcg_10\"])))\n",
    "user_wise_ctr = get_user_wise_ctr(x_test,y_test,test_pred)\n",
    "gi,gu = gini_index(user_wise_ctr)\n",
    "print(\"***\"*5 + \"[NCF-SNIPS]\" + \"***\"*5)"
   ]
  },
  {
   "cell_type": "code",
   "execution_count": 6,
   "metadata": {},
   "outputs": [
    {
     "name": "stderr",
     "output_type": "stream",
     "text": [
      "D:\\Counterfactual\\CVIB-Rec\\matrix_factorization.py:1125: UserWarning: Using a target size (torch.Size([2048])) that is different to the input size (torch.Size([2048, 1])) is deprecated. Please ensure they have the same size.\n",
      "  xent_loss = F.binary_cross_entropy(pred, sub_y, weight=inv_prop, reduction=\"sum\")\n"
     ]
    },
    {
     "name": "stdout",
     "output_type": "stream",
     "text": [
      "[NCF-DR] epoch:0, xent:8069209.515625\n",
      "[NCF-DR] epoch:10, xent:5976472.453125\n",
      "[NCF-DR] epoch:20, xent:5929477.52734375\n",
      "[NCF-DR] epoch:30, xent:5869332.7578125\n",
      "[NCF-DR] epoch:40, xent:5792328.41796875\n",
      "[NCF-DR] epoch:50, xent:5736723.046875\n",
      "[NCF-DR] epoch:60, xent:5712239.44140625\n",
      "[NCF-DR] epoch:70, xent:5699553.22265625\n",
      "[NCF-DR] epoch:78, xent:5690278.1328125\n",
      "***************[NCF-DR]***************\n",
      "[NCF-DR] test mse: 0.1727529916573135\n",
      "[NCF-DR] test auc: 0.6819140780991799\n",
      "ndcg@5:0.653807, ndcg@10:0.770040\n",
      "Num User: 5400\n",
      "Gini index: 0.547887855442828\n",
      "Global utility: 0.26281481481481483\n",
      "***************[NCF-DR]***************\n"
     ]
    }
   ],
   "source": [
    "\"NCF DR\"\n",
    "ncf_dr = NCF_DR(num_user, num_item)\n",
    "\n",
    "ips_idxs = np.arange(len(y_test))\n",
    "np.random.shuffle(ips_idxs)\n",
    "y_ips = y_test[ips_idxs[:int(0.05 * len(ips_idxs))]]\n",
    "\n",
    "ncf_dr.fit(x_train, y_train, y_ips=y_ips, batch_size=2048, \n",
    "    lr=0.01, lamb=1e-4, verbose=1)\n",
    "test_pred = ncf_dr.predict(x_test)\n",
    "mse_mfdr = mse_func(y_test, test_pred)\n",
    "auc_mfdr = roc_auc_score(y_test, test_pred)\n",
    "ndcg_res = ndcg_func(ncf_dr, x_test, y_test)\n",
    "\n",
    "print(\"***\"*5 + \"[NCF-DR]\" + \"***\"*5)\n",
    "print(\"[NCF-DR] test mse:\", mse_mfdr)\n",
    "print(\"[NCF-DR] test auc:\", auc_mfdr)\n",
    "print(\"ndcg@5:{:.6f}, ndcg@10:{:.6f}\".format(\n",
    "    np.mean(ndcg_res[\"ndcg_5\"]), np.mean(ndcg_res[\"ndcg_10\"])))\n",
    "user_wise_ctr = get_user_wise_ctr(x_test,y_test,test_pred)\n",
    "gi,gu = gini_index(user_wise_ctr)\n",
    "print(\"***\"*5 + \"[NCF-DR]\" + \"***\"*5)"
   ]
  },
  {
   "cell_type": "code",
   "execution_count": null,
   "metadata": {},
   "outputs": [],
   "source": []
  }
 ],
 "metadata": {
  "kernelspec": {
   "display_name": "Python 3",
   "language": "python",
   "name": "python3"
  },
  "language_info": {
   "codemirror_mode": {
    "name": "ipython",
    "version": 3
   },
   "file_extension": ".py",
   "mimetype": "text/x-python",
   "name": "python",
   "nbconvert_exporter": "python",
   "pygments_lexer": "ipython3",
   "version": "3.5.4"
  }
 },
 "nbformat": 4,
 "nbformat_minor": 2
}
