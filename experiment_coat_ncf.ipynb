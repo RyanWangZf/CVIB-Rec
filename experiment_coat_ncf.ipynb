{
 "cells": [
  {
   "cell_type": "code",
   "execution_count": 1,
   "metadata": {},
   "outputs": [
    {
     "name": "stdout",
     "output_type": "stream",
     "text": [
      "===>Load from coat data set<===\n",
      "[train] rating ratio: 0.080000\n",
      "[test]  rating ratio: 0.053333\n",
      "# user: 290, # item: 300\n"
     ]
    }
   ],
   "source": [
    "# -*- coding: utf-8 -*-\n",
    "import numpy as np\n",
    "import torch\n",
    "import pdb\n",
    "from sklearn.metrics import roc_auc_score\n",
    "np.random.seed(2020)\n",
    "torch.manual_seed(2020)\n",
    "import pdb\n",
    "\n",
    "from dataset import load_data\n",
    "\n",
    "from matrix_factorization import NCF, NCF_CVIB, NCF_IPS, NCF_SNIPS, NCF_DR\n",
    "\n",
    "from utils import gini_index, get_user_wise_ctr, rating_mat_to_sample, binarize, shuffle, minU\n",
    "mse_func = lambda x,y: np.mean((x-y)**2)\n",
    "acc_func = lambda x,y: np.sum(x == y) / len(x)\n",
    "\n",
    "dataset_name = \"coat\"\n",
    "# dataset_name = \"yahoo\"\n",
    "\n",
    "if dataset_name == \"coat\":\n",
    "    train_mat, test_mat = load_data(\"coat\")        \n",
    "    x_train, y_train = rating_mat_to_sample(train_mat)\n",
    "    x_test, y_test = rating_mat_to_sample(test_mat)\n",
    "    num_user = train_mat.shape[0]\n",
    "    num_item = train_mat.shape[1]\n",
    "\n",
    "elif dataset_name == \"yahoo\":\n",
    "    x_train, y_train, x_test, y_test = load_data(\"yahoo\")\n",
    "    x_train, y_train = shuffle(x_train, y_train)\n",
    "    num_user = x_train[:,0].max() + 1\n",
    "    num_item = x_train[:,1].max() + 1\n",
    "\n",
    "print(\"# user: {}, # item: {}\".format(num_user, num_item))\n",
    "# binarize\n",
    "y_train = binarize(y_train)\n",
    "y_test = binarize(y_test)"
   ]
  },
  {
   "cell_type": "code",
   "execution_count": 2,
   "metadata": {},
   "outputs": [
    {
     "name": "stdout",
     "output_type": "stream",
     "text": [
      "[NCF-CVIB] epoch:0, xent:8.99670535326004\n",
      "[NCF-CVIB] epoch:10, xent:7.126492977142334\n",
      "[NCF-CVIB] epoch:18, xent:6.419546186923981\n",
      "***************[NCF-CVIB]***************\n",
      "[NCF-CVIB] test mse: 0.20166660333449452\n",
      "[NCF-CVIB] test auc: 0.7713471429267398\n",
      "Num User: 290\n",
      "Gini index: 0.3402743888402935\n",
      "Global utility: 0.516551724137931\n",
      "***************[NCF-CVIB]***************\n"
     ]
    }
   ],
   "source": [
    "\"NCF CVIB\"\n",
    "ncf_cvib = NCF_CVIB(num_user, num_item)\n",
    "ncf_cvib.fit(x_train, y_train, lr=0.01, \n",
    "    alpha=1e-1, gamma=1e-4, lamb=1e-3, tol=1e-6, \n",
    "    batch_size = 512, verbose=1)\n",
    "\n",
    "test_pred = ncf_cvib.predict(x_test)\n",
    "mse_ncf = mse_func(y_test, test_pred)\n",
    "auc_ncf = roc_auc_score(y_test, test_pred)\n",
    "print(\"***\"*5 + \"[NCF-CVIB]\" + \"***\"*5)\n",
    "print(\"[NCF-CVIB] test mse:\",mse_ncf)\n",
    "print(\"[NCF-CVIB] test auc:\", auc_ncf)\n",
    "user_wise_ctr = get_user_wise_ctr(x_test,y_test,test_pred)\n",
    "gi,gu = gini_index(user_wise_ctr)\n",
    "print(\"***\"*5 + \"[NCF-CVIB]\" + \"***\"*5)"
   ]
  },
  {
   "cell_type": "code",
   "execution_count": 3,
   "metadata": {},
   "outputs": [
    {
     "name": "stdout",
     "output_type": "stream",
     "text": [
      "[NCF] epoch:0, xent:9.007273197174072\n",
      "[NCF] epoch:9, xent:6.504551500082016\n",
      "***************[NCF]***************\n",
      "[NCF] test mse: 0.20301297499383303\n",
      "[NCF] test auc: 0.768840103962467\n",
      "Num User: 290\n",
      "Gini index: 0.3345932507711441\n",
      "Global utility: 0.516551724137931\n",
      "***************[NCF]***************\n"
     ]
    }
   ],
   "source": [
    "\"NCF naive\"\n",
    "ncf = NCF(num_user, num_item)\n",
    "ncf.fit(x_train, y_train, lr=0.05, lamb=1e-3, tol=1e-6, \n",
    "    batch_size = 512, verbose=1)\n",
    "test_pred = ncf.predict(x_test)\n",
    "mse_ncf = mse_func(y_test, test_pred)\n",
    "auc_ncf = roc_auc_score(y_test, test_pred)\n",
    "print(\"***\"*5 + \"[NCF]\" + \"***\"*5)\n",
    "print(\"[NCF] test mse:\", mse_func(y_test, test_pred))\n",
    "print(\"[NCF] test auc:\", auc_ncf)\n",
    "user_wise_ctr = get_user_wise_ctr(x_test,y_test,test_pred)\n",
    "gi,gu = gini_index(user_wise_ctr)\n",
    "print(\"***\"*5 + \"[NCF]\" + \"***\"*5)"
   ]
  },
  {
   "cell_type": "code",
   "execution_count": 4,
   "metadata": {},
   "outputs": [
    {
     "name": "stdout",
     "output_type": "stream",
     "text": [
      "[NCF-IPS] epoch:0, xent:114.34569358825684\n",
      "[NCF-IPS] epoch:10, xent:82.06969213485718\n",
      "[NCF-IPS] epoch:20, xent:74.03709554672241\n",
      "[NCF-IPS] epoch:30, xent:68.91228532791138\n",
      "[NCF-IPS] epoch:32, xent:68.65648984909058\n",
      "***************[NCF-IPS]***************\n",
      "[NCF-IPS] test mse: 0.20081778276311885\n",
      "[NCF-IPS] test auc: 0.7707961665966832\n",
      "Num User: 290\n",
      "Gini index: 0.34558318450336656\n",
      "Global utility: 0.5193103448275862\n",
      "***************[NCF-IPS]***************\n"
     ]
    }
   ],
   "source": [
    "\"NCF IPS\"\n",
    "ncf_ips = NCF_IPS(num_user, num_item)\n",
    "\n",
    "ips_idxs = np.arange(len(y_test))\n",
    "np.random.shuffle(ips_idxs)\n",
    "y_ips = y_test[ips_idxs[:int(0.05 * len(ips_idxs))]]\n",
    "\n",
    "ncf_ips.fit(x_train, y_train, \n",
    "    y_ips=y_ips,\n",
    "    lr=0.01,\n",
    "    batch_size=512,\n",
    "    lamb=1e-3,tol=1e-6, verbose=1)\n",
    "\n",
    "test_pred = ncf_ips.predict(x_test)\n",
    "mse_ncfips = mse_func(y_test, test_pred)\n",
    "auc_ncfips = roc_auc_score(y_test, test_pred)\n",
    "print(\"***\"*5 + \"[NCF-IPS]\" + \"***\"*5)\n",
    "print(\"[NCF-IPS] test mse:\", mse_ncfips)\n",
    "print(\"[NCF-IPS] test auc:\", auc_ncfips)\n",
    "user_wise_ctr = get_user_wise_ctr(x_test,y_test,test_pred)\n",
    "gi,gu = gini_index(user_wise_ctr)\n",
    "print(\"***\"*5 + \"[NCF-IPS]\" + \"***\"*5)"
   ]
  },
  {
   "cell_type": "code",
   "execution_count": 5,
   "metadata": {},
   "outputs": [
    {
     "name": "stdout",
     "output_type": "stream",
     "text": [
      "[NCF-SNIPS] epoch:0, xent:9.024765431880951\n",
      "[NCF-SNIPS] epoch:10, xent:7.861968219280243\n",
      "[NCF-SNIPS] epoch:17, xent:6.318820536136627\n",
      "***************[NCF-SNIPS]***************\n",
      "[NCF-SNIPS] test mse: 0.19215682722874983\n",
      "[NCF-SNIPS] test auc: 0.7694950891576365\n",
      "Num User: 290\n",
      "Gini index: 0.3303159036471287\n",
      "Global utility: 0.5262068965517241\n",
      "***************[NCF-SNIPS]***************\n"
     ]
    }
   ],
   "source": [
    "\"NCF SNIPS\"\n",
    "ncf_snips = NCF_SNIPS(num_user, num_item)\n",
    "\n",
    "ips_idxs = np.arange(len(y_test))\n",
    "np.random.shuffle(ips_idxs)\n",
    "y_ips = y_test[ips_idxs[:int(0.05 * len(ips_idxs))]]\n",
    "\n",
    "ncf_snips.fit(x_train, y_train, \n",
    "    y_ips=y_ips,\n",
    "    lr=0.01,\n",
    "    batch_size=512,\n",
    "    lamb=1e-3,tol=1e-6, verbose=1)\n",
    "\n",
    "test_pred = ncf_snips.predict(x_test)\n",
    "mse_ncfsnips = mse_func(y_test, test_pred)\n",
    "auc_ncfsnips = roc_auc_score(y_test, test_pred)\n",
    "print(\"***\"*5 + \"[NCF-SNIPS]\" + \"***\"*5)\n",
    "print(\"[NCF-SNIPS] test mse:\", mse_ncfsnips)\n",
    "print(\"[NCF-SNIPS] test auc:\", auc_ncfsnips)\n",
    "user_wise_ctr = get_user_wise_ctr(x_test,y_test,test_pred)\n",
    "gi,gu = gini_index(user_wise_ctr)\n",
    "print(\"***\"*5 + \"[NCF-SNIPS]\" + \"***\"*5)\n"
   ]
  },
  {
   "cell_type": "code",
   "execution_count": 6,
   "metadata": {},
   "outputs": [
    {
     "name": "stderr",
     "output_type": "stream",
     "text": [
      "D:\\Counterfactual\\CVIB\\matrix_factorization.py:1108: UserWarning: Using a target size (torch.Size([512])) that is different to the input size (torch.Size([512, 1])) is deprecated. Please ensure they have the same size.\n",
      "  xent_loss = F.binary_cross_entropy(pred, sub_y, weight=inv_prop, reduction=\"sum\")\n"
     ]
    },
    {
     "name": "stdout",
     "output_type": "stream",
     "text": [
      "[NCF-DR] epoch:17, xent:31191.924560546875\n",
      "***************[NCF-DR]***************\n",
      "[NCF-DR] test mse: 0.21605737538658742\n",
      "[NCF-DR] test auc: 0.7513524052340045\n",
      "Num User: 290\n",
      "Gini index: 0.3624425287356329\n",
      "Global utility: 0.496551724137931\n",
      "***************[NCF-DR]***************\n"
     ]
    }
   ],
   "source": [
    "\"NCF DR\"\n",
    "ncf_dr = NCF_DR(num_user, num_item)\n",
    "\n",
    "ips_idxs = np.arange(len(y_test))\n",
    "np.random.shuffle(ips_idxs)\n",
    "y_ips = y_test[ips_idxs[:int(0.05 * len(ips_idxs))]]\n",
    "\n",
    "ncf_dr.fit(x_train, y_train, y_ips=y_ips, batch_size=512, lr=0.05, lamb=1e-3,verbose=0)\n",
    "test_pred = ncf_dr.predict(x_test)\n",
    "mse_mfdr = mse_func(y_test, test_pred)\n",
    "auc_mfdr = roc_auc_score(y_test, test_pred)\n",
    "print(\"***\"*5 + \"[NCF-DR]\" + \"***\"*5)\n",
    "print(\"[NCF-DR] test mse:\", mse_mfdr)\n",
    "print(\"[NCF-DR] test auc:\", auc_mfdr)\n",
    "user_wise_ctr = get_user_wise_ctr(x_test,y_test,test_pred)\n",
    "gi,gu = gini_index(user_wise_ctr)\n",
    "print(\"***\"*5 + \"[NCF-DR]\" + \"***\"*5)"
   ]
  },
  {
   "cell_type": "code",
   "execution_count": null,
   "metadata": {},
   "outputs": [],
   "source": []
  }
 ],
 "metadata": {
  "kernelspec": {
   "display_name": "Python 3",
   "language": "python",
   "name": "python3"
  },
  "language_info": {
   "codemirror_mode": {
    "name": "ipython",
    "version": 3
   },
   "file_extension": ".py",
   "mimetype": "text/x-python",
   "name": "python",
   "nbconvert_exporter": "python",
   "pygments_lexer": "ipython3",
   "version": "3.5.4"
  }
 },
 "nbformat": 4,
 "nbformat_minor": 2
}
