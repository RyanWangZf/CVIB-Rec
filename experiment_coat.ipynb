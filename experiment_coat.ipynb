{
 "cells": [
  {
   "cell_type": "code",
   "execution_count": 1,
   "metadata": {},
   "outputs": [],
   "source": [
    "# -*- coding: utf-8 -*-\n",
    "import numpy as np\n",
    "import torch\n",
    "import pdb\n",
    "from sklearn.metrics import roc_auc_score\n",
    "np.random.seed(2020)\n",
    "torch.manual_seed(2020)\n",
    "import pdb\n",
    "\n",
    "from dataset import load_data\n",
    "from matrix_factorization import MF, MF_VITA, MF_IPS, MF_SNIPS\n",
    "from utils import gini_index, get_user_wise_ctr, rating_mat_to_sample, binarize, shuffle, minU\n",
    "mse_func = lambda x,y: np.mean((x-y)**2)\n",
    "acc_func = lambda x,y: np.sum(x == y) / len(x)\n",
    "\n",
    "dataset_name = \"coat\""
   ]
  },
  {
   "cell_type": "code",
   "execution_count": 2,
   "metadata": {},
   "outputs": [
    {
     "name": "stdout",
     "output_type": "stream",
     "text": [
      "===>Load from coat data set<===\n",
      "[train] rating ratio: 0.080000\n",
      "[test]  rating ratio: 0.053333\n",
      "# user: 290, # item: 300\n"
     ]
    }
   ],
   "source": [
    "if dataset_name == \"coat\":\n",
    "    train_mat, test_mat = load_data(\"coat\")        \n",
    "    x_train, y_train = rating_mat_to_sample(train_mat)\n",
    "    x_test, y_test = rating_mat_to_sample(test_mat)\n",
    "    num_user = train_mat.shape[0]\n",
    "    num_item = train_mat.shape[1]\n",
    "\n",
    "elif dataset_name == \"yahoo\":\n",
    "    x_train, y_train, x_test, y_test = load_data(\"yahoo\")\n",
    "    x_train, y_train = shuffle(x_train, y_train)\n",
    "    num_user = x_train[:,0].max() + 1\n",
    "    num_item = x_train[:,1].max() + 1\n",
    "\n",
    "print(\"# user: {}, # item: {}\".format(num_user, num_item))\n",
    "# binarize\n",
    "y_train = binarize(y_train)\n",
    "y_test = binarize(y_test)"
   ]
  },
  {
   "cell_type": "code",
   "execution_count": 3,
   "metadata": {},
   "outputs": [
    {
     "name": "stdout",
     "output_type": "stream",
     "text": [
      "[MF-VITA] epoch:63, xent:19.044715628027916\n",
      "***************[MF-VITA]***************\n",
      "[MF-VITA] test mse: 0.21890791943751317\n",
      "[MF-VITA] test auc: 0.7211649920852734\n",
      "Num User: 290\n",
      "Gini index: 0.30810522573764754\n",
      "Global utility: 0.5351724137931034\n",
      "***************[MF-VITA]***************\n"
     ]
    }
   ],
   "source": [
    "\"MF VITA\"\n",
    "mf_vita = MF_VITA(num_user, num_item)\n",
    "mf_vita.fit(x_train, y_train, \n",
    "    lr=0.01,\n",
    "    batch_size=128,\n",
    "    lamb=1e-4,\n",
    "    alpha=0.1,\n",
    "    tol=1e-5,\n",
    "    verbose=False)\n",
    "\n",
    "test_pred = mf_vita.predict(x_test)\n",
    "mse_mf = mse_func(y_test, test_pred)\n",
    "auc_mf = roc_auc_score(y_test, test_pred)\n",
    "print(\"***\"*5 + \"[MF-VITA]\" + \"***\"*5)\n",
    "print(\"[MF-VITA] test mse:\", mse_func(y_test, test_pred))\n",
    "print(\"[MF-VITA] test auc:\", auc_mf)\n",
    "user_wise_ctr = get_user_wise_ctr(x_test,y_test,test_pred)\n",
    "gi,gu = gini_index(user_wise_ctr)\n",
    "print(\"***\"*5 + \"[MF-VITA]\" + \"***\"*5)"
   ]
  },
  {
   "cell_type": "code",
   "execution_count": 4,
   "metadata": {},
   "outputs": [
    {
     "name": "stdout",
     "output_type": "stream",
     "text": [
      "[MF] epoch:85, xent:17.313761726021767\n",
      "***************[MF]***************\n",
      "[MF] test mse: 0.24509646945574923\n",
      "[MF] test auc: 0.7020252343292666\n",
      "Num User: 290\n",
      "Gini index: 0.34480347238968034\n",
      "Global utility: 0.49310344827586206\n",
      "***************[MF]***************\n"
     ]
    }
   ],
   "source": [
    "\"MF naive\"\n",
    "mf = MF(num_user, num_item)\n",
    "mf.fit(x_train, y_train, lr=0.01, lamb=1e-4,verbose=0)\n",
    "test_pred = mf.predict(x_test)\n",
    "mse_mf = mse_func(y_test, test_pred)\n",
    "auc_mf = roc_auc_score(y_test, test_pred)\n",
    "print(\"***\"*5 + \"[MF]\" + \"***\"*5)\n",
    "print(\"[MF] test mse:\", mse_func(y_test, test_pred))\n",
    "print(\"[MF] test auc:\", auc_mf)\n",
    "user_wise_ctr = get_user_wise_ctr(x_test,y_test,test_pred)\n",
    "gi,gu = gini_index(user_wise_ctr)\n",
    "print(\"***\"*5 + \"[MF]\" + \"***\"*5)"
   ]
  },
  {
   "cell_type": "code",
   "execution_count": 5,
   "metadata": {},
   "outputs": [
    {
     "name": "stdout",
     "output_type": "stream",
     "text": [
      "[MF-IPS] epoch:25, xent:217.241384267807\n",
      "***************[MF-IPS]***************\n",
      "[MF-IPS] test mse: 0.22992293407446174\n",
      "[MF-IPS] test auc: 0.7156132772536092\n",
      "Num User: 290\n",
      "Gini index: 0.3265323102523816\n",
      "Global utility: 0.5144827586206896\n",
      "***************[MF-IPS]***************\n"
     ]
    }
   ],
   "source": [
    "\"MF IPS\"\n",
    "mf_ips = MF_IPS(num_user, num_item)\n",
    "\n",
    "ips_idxs = np.arange(len(y_test))\n",
    "np.random.shuffle(ips_idxs)\n",
    "y_ips = y_test[ips_idxs[:int(0.05 * len(ips_idxs))]]\n",
    "\n",
    "mf_ips.fit(x_train, y_train, y_ips=y_ips,lr=0.05, lamb=1e-3,verbose=0)\n",
    "test_pred = mf_ips.predict(x_test)\n",
    "mse_mfips = mse_func(y_test, test_pred)\n",
    "auc_mfips = roc_auc_score(y_test, test_pred)\n",
    "print(\"***\"*5 + \"[MF-IPS]\" + \"***\"*5)\n",
    "print(\"[MF-IPS] test mse:\", mse_func(y_test, test_pred))\n",
    "print(\"[MF-IPS] test auc:\", auc_mfips)\n",
    "user_wise_ctr = get_user_wise_ctr(x_test,y_test,test_pred)\n",
    "gi,gu = gini_index(user_wise_ctr)\n",
    "print(\"***\"*5 + \"[MF-IPS]\" + \"***\"*5)"
   ]
  },
  {
   "cell_type": "code",
   "execution_count": 6,
   "metadata": {},
   "outputs": [
    {
     "name": "stdout",
     "output_type": "stream",
     "text": [
      "[MF-SNIPS] epoch:26, xent:18.89180314540863\n",
      "***************[MF-SNIPS]***************\n",
      "[MF-SNIPS] test mse: 0.23741498000287292\n",
      "[MF-SNIPS] test auc: 0.6960321584584727\n",
      "Num User: 290\n",
      "Gini index: 0.3413887190102094\n",
      "Global utility: 0.5055172413793104\n",
      "***************[MF-SNIPS]***************\n"
     ]
    }
   ],
   "source": [
    "\"MF-SNIPS\"\n",
    "mf_snips = MF_SNIPS(num_user, num_item)\n",
    "\n",
    "ips_idxs = np.arange(len(y_test))\n",
    "np.random.shuffle(ips_idxs)\n",
    "y_ips = y_test[ips_idxs[:int(0.05 * len(ips_idxs))]]\n",
    "\n",
    "mf_snips.fit(x_train, y_train, y_ips=y_ips,lr=0.05, lamb=1e-4,verbose=0)\n",
    "test_pred = mf_snips.predict(x_test)\n",
    "mse_mfsnips = mse_func(y_test, test_pred)\n",
    "auc_mfsnips = roc_auc_score(y_test, test_pred)\n",
    "print(\"***\"*5 + \"[MF-SNIPS]\" + \"***\"*5)\n",
    "print(\"[MF-SNIPS] test mse:\", mse_mfsnips)\n",
    "print(\"[MF-SNIPS] test auc:\", auc_mfsnips)\n",
    "user_wise_ctr = get_user_wise_ctr(x_test,y_test,test_pred)\n",
    "gi,gu = gini_index(user_wise_ctr)\n",
    "print(\"***\"*5 + \"[MF-SNIPS]\" + \"***\"*5)"
   ]
  },
  {
   "cell_type": "code",
   "execution_count": null,
   "metadata": {},
   "outputs": [],
   "source": []
  }
 ],
 "metadata": {
  "kernelspec": {
   "display_name": "Python 3",
   "language": "python",
   "name": "python3"
  },
  "language_info": {
   "codemirror_mode": {
    "name": "ipython",
    "version": 3
   },
   "file_extension": ".py",
   "mimetype": "text/x-python",
   "name": "python",
   "nbconvert_exporter": "python",
   "pygments_lexer": "ipython3",
   "version": "3.5.4"
  }
 },
 "nbformat": 4,
 "nbformat_minor": 2
}
